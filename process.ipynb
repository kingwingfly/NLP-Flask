{
 "cells": [
  {
   "cell_type": "code",
   "execution_count": 2,
   "metadata": {},
   "outputs": [
    {
     "data": {
      "text/plain": [
       "('.\\\\results\\\\key_words', '.\\\\results\\\\ner', '.\\\\results\\\\triples')"
      ]
     },
     "execution_count": 2,
     "metadata": {},
     "output_type": "execute_result"
    }
   ],
   "source": [
    "import os\n",
    "\n",
    "def check_dir(dir):\n",
    "    triples_dir = os.path.join('.', 'results', dir)\n",
    "    if not os.path.exists(triples_dir):\n",
    "        os.makedirs(triples_dir)\n",
    "\n",
    "dir_lst = ['key_words', 'ner', 'triples']\n",
    "for dir in dir_lst:\n",
    "    check_dir(dir)\n",
    "\n",
    "key_words_dir, ner_dir, triples_dir = (os.path.join('.', 'results', dir) for dir in dir_lst)\n",
    "key_words_dir, ner_dir, triples_dir"
   ]
  },
  {
   "cell_type": "code",
   "execution_count": 3,
   "metadata": {},
   "outputs": [],
   "source": [
    "def read_and_compose(dir):\n",
    "    result = []\n",
    "    for dirpath, _, filenames in os.walk(dir):\n",
    "        for filename in filenames:\n",
    "            with open(os.path.join(dirpath, filename), 'r', encoding='utf-8') as f:\n",
    "                result.extend(eval(f.read().strip('\\n')))\n",
    "    print(f'length is {len(result)}')\n",
    "    return result"
   ]
  },
  {
   "cell_type": "code",
   "execution_count": 4,
   "metadata": {},
   "outputs": [],
   "source": [
    "# ner = read_and_compose(ner_dir)\n",
    "# key_words = read_and_compose(key_words_dir)"
   ]
  },
  {
   "cell_type": "code",
   "execution_count": 5,
   "metadata": {},
   "outputs": [
    {
     "name": "stdout",
     "output_type": "stream",
     "text": [
      "length is 255\n",
      "[['建筑运维系统数据', '映射到', '建筑数字孪生体'], ['数据', '转换', '映射配置'], ['提出融合路线', '满足', '融合各项要求']]\n",
      "length is 1112\n"
     ]
    }
   ],
   "source": [
    "triples = read_and_compose(triples_dir)\n",
    "triples = [i for j in triples for i in j]\n",
    "print(triples[0:3])\n",
    "print(f'length is {len(triples)}')\n"
   ]
  },
  {
   "cell_type": "code",
   "execution_count": 6,
   "metadata": {},
   "outputs": [
    {
     "name": "stdout",
     "output_type": "stream",
     "text": [
      "['满足', '构建', '结合', '作为', '为', '是', '成为', '提供', '提出', '存在', '面向', '实现', '分析', '有', '表明', '建立', '具有', '进行', '虚拟', '+']\n"
     ]
    }
   ],
   "source": [
    "from collections import Counter\n",
    "def words_counter(triples):\n",
    "    s = [i[0] for i in triples]\n",
    "    v = [i[1] for i in triples]\n",
    "    o = [i[2] for i in triples]\n",
    "    return Counter(v)\n",
    "count_result = words_counter(triples)\n",
    "print([k for k, v in count_result.items() if v >=10])"
   ]
  },
  {
   "cell_type": "code",
   "execution_count": 10,
   "metadata": {},
   "outputs": [],
   "source": [
    "class Matcher():\n",
    "    def __init__(self, triples) -> None:\n",
    "        self.triples = triples\n",
    "\n",
    "    def match_by_s(self, key_word):\n",
    "        return [i for i in triples if i[0]==key_word]\n",
    "\n",
    "    def match_by_v(self, key_word):\n",
    "        return [i for i in triples if i[1]==key_word]\n",
    "\n",
    "    def match_by_0(self, key_word):\n",
    "        return [i for i in triples if i[2]==key_word]\n"
   ]
  },
  {
   "cell_type": "code",
   "execution_count": 12,
   "metadata": {},
   "outputs": [
    {
     "name": "stdout",
     "output_type": "stream",
     "text": [
      "[['融合', '构建', '基于调度智能化管理平台研究'], ['快速', '构建', 'CIM'], ['该方案', '构建', '一个空间图模型'], ['对象', '构建', '一个同模样对照物'], ['一种基于数字孪生城市智慧治理方法体系', '构建', '该体系'], ['了', '构建', '数字孪生城市'], ['我们', '构建', '一个城市基础数据平台'], ['智慧园区', '构建', '智慧园区中枢'], ['在', '构建', '数字'], ['数据底板', '构建', '总体框架'], ['变压器', '构建', '变压器数字孪生体'], ['论文', '构建', '变压器数字孪生降阶模型'], ['如何', '构建', '变电站设备'], ['象山县', '构建', '渔业安全治理全国性行业标准'], ['我国', '构建', '技术标准体系'], ['，', '构建', '油气藏系统'], ['教育元宇宙', '构建', '一个永久在线开放共享可持续发展教育平台数字孪生高校']]\n"
     ]
    }
   ],
   "source": [
    "matcher = Matcher(triples)\n",
    "result = matcher.match_by_v(\"构建\")\n",
    "print(result)"
   ]
  }
 ],
 "metadata": {
  "kernelspec": {
   "display_name": "Python 3.10.8 ('NLPFlask')",
   "language": "python",
   "name": "python3"
  },
  "language_info": {
   "codemirror_mode": {
    "name": "ipython",
    "version": 3
   },
   "file_extension": ".py",
   "mimetype": "text/x-python",
   "name": "python",
   "nbconvert_exporter": "python",
   "pygments_lexer": "ipython3",
   "version": "3.10.8"
  },
  "orig_nbformat": 4,
  "vscode": {
   "interpreter": {
    "hash": "204491017f139344bb341ebc7b295ffbe4cbb6791f0d2e69d3879f706453f081"
   }
  }
 },
 "nbformat": 4,
 "nbformat_minor": 2
}
