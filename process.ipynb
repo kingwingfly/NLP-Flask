{
 "cells": [
  {
   "cell_type": "code",
   "execution_count": 9,
   "metadata": {},
   "outputs": [
    {
     "data": {
      "text/plain": [
       "('.\\\\results\\\\key_words', '.\\\\results\\\\ner', '.\\\\results\\\\triples')"
      ]
     },
     "execution_count": 9,
     "metadata": {},
     "output_type": "execute_result"
    }
   ],
   "source": [
    "import os\n",
    "\n",
    "def check_dir(dir):\n",
    "    triples_dir = os.path.join('.', 'results', dir)\n",
    "    if not os.path.exists(triples_dir):\n",
    "        os.makedirs(triples_dir)\n",
    "\n",
    "dir_lst = ['key_words', 'ner', 'triples']\n",
    "for dir in dir_lst:\n",
    "    check_dir(dir)\n",
    "\n",
    "key_words_dir, ner_dir, triples_dir = (os.path.join('.', 'results', dir) for dir in dir_lst)\n",
    "key_words_dir, ner_dir, triples_dir"
   ]
  },
  {
   "cell_type": "code",
   "execution_count": 13,
   "metadata": {},
   "outputs": [],
   "source": [
    "def read_and_compose(dir):\n",
    "    result = []\n",
    "    for dirpath, _, filenames in os.walk(dir):\n",
    "        for filename in filenames:\n",
    "            with open(os.path.join(dirpath, filename), 'r', encoding='utf-8') as f:\n",
    "                result.extend(eval(f.read().strip('\\n')))\n",
    "    print(f'length is {len(result)}')\n",
    "    return result"
   ]
  },
  {
   "cell_type": "code",
   "execution_count": 14,
   "metadata": {},
   "outputs": [
    {
     "name": "stdout",
     "output_type": "stream",
     "text": [
      "length is 255\n",
      "length is 255\n",
      "length is 1335\n"
     ]
    }
   ],
   "source": [
    "triples = read_and_compose(triples_dir)\n",
    "ner = read_and_compose(ner_dir)\n",
    "key_words = read_and_compose(key_words_dir)"
   ]
  },
  {
   "cell_type": "code",
   "execution_count": 17,
   "metadata": {},
   "outputs": [
    {
     "name": "stdout",
     "output_type": "stream",
     "text": [
      "[[['建筑运维系统数据', '映射到', '建筑数字孪生体'], ['数据', '转换', '映射配置'], ['提出融合路线', '满足', '融合各项要求'], ['该融合系统', '完成', '该医院超30亿条数据接入任务'], ['该数据融合路线', '奠定', '基础']], [['我国建筑行业', '取得', '一定突破'], ['融合', '构建', '基于调度智能化管理平台研究'], ['该平台', '有助于', '实现实际物理调度管理系统与虚拟调度管理系统之间相互连接相互作用'], ['文章', '结合', '多种实践经验'], ['文章', '出发', '从BIM技术特点以及数字孪生技术不断发展背景'], ['文章', '出发', '从虚拟数据处理虚拟智能空间以及虚拟报警系统多个细节层面']], [['火灾', '发生', '高层建筑'], ['火灾智能应急系统', '改善', '这一问题'], ['本文研究', '设计', '一种应对火灾智能应急系统'], ['一种', '应对', '火灾'], ['由物联网和火灾报警传感器', '结合', '信息感知模块'], ['由物联网和火灾报警传感器', '构成', '信息感知模块']], [['我国建筑业', '作为', '大型传统产业'], ['我国建筑业', '融入', '数据时代'], ['本文', '为', '例']], [['震损建筑加固修复', '是', '提高建筑抗震能力关键环节'], ['理解加固方法', '有助于', '修复震后建筑'], ['他们', '执行', '相同加固任务'], ['他们', '记录', '他们完成任务时间错误率'], ['他们', '完成', '任务'], ['他们', '要求', '他们'], ['开发DTMR-DRS系统', '传递', '信息'], ['文字语音视频模型展示', '使得', '施工指导'], ['在', '帮助', '加固']]]\n",
      "------------------------------\n",
      "[[('Ns', '青岛市')], [], [], [], []]\n",
      "------------------------------\n",
      "['数字', '技术', '数字化', '模型', '建筑']\n",
      "------------------------------\n"
     ]
    }
   ],
   "source": [
    "print(triples[:5:])\n",
    "print('-'*30)\n",
    "print(ner[:5:])\n",
    "print('-'*30)\n",
    "print(key_words[:5:])\n",
    "print('-'*30)"
   ]
  },
  {
   "cell_type": "code",
   "execution_count": null,
   "metadata": {},
   "outputs": [],
   "source": [
    "ner"
   ]
  }
 ],
 "metadata": {
  "kernelspec": {
   "display_name": "Python 3.9.13 ('base')",
   "language": "python",
   "name": "python3"
  },
  "language_info": {
   "codemirror_mode": {
    "name": "ipython",
    "version": 3
   },
   "file_extension": ".py",
   "mimetype": "text/x-python",
   "name": "python",
   "nbconvert_exporter": "python",
   "pygments_lexer": "ipython3",
   "version": "3.9.13"
  },
  "orig_nbformat": 4,
  "vscode": {
   "interpreter": {
    "hash": "38cca0c38332a56087b24af0bc80247f4fced29cb4f7f437d91dc159adec9c4e"
   }
  }
 },
 "nbformat": 4,
 "nbformat_minor": 2
}
